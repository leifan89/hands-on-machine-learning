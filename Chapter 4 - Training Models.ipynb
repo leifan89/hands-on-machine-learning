{
 "cells": [
  {
   "cell_type": "code",
   "execution_count": 1,
   "metadata": {},
   "outputs": [],
   "source": [
    "import numpy as np"
   ]
  },
  {
   "cell_type": "code",
   "execution_count": 2,
   "metadata": {},
   "outputs": [],
   "source": [
    "X = 2*np.random.rand(100, 1)\n",
    "y = 4 + 3*X + np.random.randn(100, 1)"
   ]
  },
  {
   "cell_type": "code",
   "execution_count": 5,
   "metadata": {},
   "outputs": [],
   "source": [
    "import matplotlib.pyplot as plt"
   ]
  },
  {
   "cell_type": "code",
   "execution_count": 9,
   "metadata": {},
   "outputs": [
    {
     "data": {
      "text/plain": [
       "<matplotlib.collections.PathCollection at 0x24c7161fbb0>"
      ]
     },
     "execution_count": 9,
     "metadata": {},
     "output_type": "execute_result"
    },
    {
     "data": {
      "image/png": "[encoded data removed]",
      "text/plain": [
       "<Figure size 432x288 with 1 Axes>"
      ]
     },
     "metadata": {
      "needs_background": "light"
     },
     "output_type": "display_data"
    }
   ],
   "source": [
    "plt.scatter(X, y)"
   ]
  },
  {
   "cell_type": "code",
   "execution_count": 10,
   "metadata": {},
   "outputs": [
    {
     "data": {
      "text/plain": [
       "(array([[0.11284635],\n",
       "        [0.64289343],\n",
       "        [0.31619414],\n",
       "        [0.26257793],\n",
       "        [1.60557384],\n",
       "        [1.15597433],\n",
       "        [1.05174034],\n",
       "        [0.1893729 ],\n",
       "        [1.82682019],\n",
       "        [0.19315879],\n",
       "        [0.30074475],\n",
       "        [1.59191848],\n",
       "        [1.41450966],\n",
       "        [0.73860618],\n",
       "        [0.28581132],\n",
       "        [1.9616834 ],\n",
       "        [0.26854662],\n",
       "        [1.33731693],\n",
       "        [1.49777551],\n",
       "        [1.2859083 ],\n",
       "        [0.53155715],\n",
       "        [0.68441872],\n",
       "        [1.31593653],\n",
       "        [1.43423449],\n",
       "        [1.28488658],\n",
       "        [0.87017185],\n",
       "        [1.27554222],\n",
       "        [1.5118879 ],\n",
       "        [0.8617949 ],\n",
       "        [1.82745014],\n",
       "        [1.86966005],\n",
       "        [0.88555827],\n",
       "        [0.31054602],\n",
       "        [0.63475805],\n",
       "        [1.75244013],\n",
       "        [0.33825716],\n",
       "        [0.77104875],\n",
       "        [1.07300038],\n",
       "        [0.1434913 ],\n",
       "        [0.97941311],\n",
       "        [0.2938671 ],\n",
       "        [1.73269165],\n",
       "        [0.56412569],\n",
       "        [1.08109047],\n",
       "        [1.14773867],\n",
       "        [0.54009798],\n",
       "        [0.53180611],\n",
       "        [1.1821902 ],\n",
       "        [1.29343806],\n",
       "        [0.67979212],\n",
       "        [1.4074412 ],\n",
       "        [0.4276984 ],\n",
       "        [0.77747471],\n",
       "        [0.68334988],\n",
       "        [1.53101614],\n",
       "        [0.0750457 ],\n",
       "        [0.45610274],\n",
       "        [0.63106767],\n",
       "        [1.02464794],\n",
       "        [1.43944951],\n",
       "        [1.3470833 ],\n",
       "        [0.62288978],\n",
       "        [0.50640855],\n",
       "        [0.86552453],\n",
       "        [1.5807563 ],\n",
       "        [0.96712665],\n",
       "        [0.60447204],\n",
       "        [1.39506746],\n",
       "        [1.66863303],\n",
       "        [1.70584326],\n",
       "        [0.54590405],\n",
       "        [1.89479372],\n",
       "        [1.04874959],\n",
       "        [0.31944221],\n",
       "        [1.48939306],\n",
       "        [0.17788371],\n",
       "        [1.58379613],\n",
       "        [0.09753269],\n",
       "        [1.24687155],\n",
       "        [1.38060489],\n",
       "        [0.60240835],\n",
       "        [0.99791951],\n",
       "        [1.79950403],\n",
       "        [1.14873644],\n",
       "        [1.87181087],\n",
       "        [0.5884144 ],\n",
       "        [1.1847256 ],\n",
       "        [0.86123016],\n",
       "        [0.06585495],\n",
       "        [1.87933209],\n",
       "        [0.87360027],\n",
       "        [0.45430754],\n",
       "        [0.84856305],\n",
       "        [0.92291112],\n",
       "        [0.06195343],\n",
       "        [0.95721069],\n",
       "        [1.85760408],\n",
       "        [1.60494276],\n",
       "        [0.63664941],\n",
       "        [1.66058792]]),\n",
       " array([[1.        , 0.11284635],\n",
       "        [1.        , 0.64289343],\n",
       "        [1.        , 0.31619414],\n",
       "        [1.        , 0.26257793],\n",
       "        [1.        , 1.60557384],\n",
       "        [1.        , 1.15597433],\n",
       "        [1.        , 1.05174034],\n",
       "        [1.        , 0.1893729 ],\n",
       "        [1.        , 1.82682019],\n",
       "        [1.        , 0.19315879],\n",
       "        [1.        , 0.30074475],\n",
       "        [1.        , 1.59191848],\n",
       "        [1.        , 1.41450966],\n",
       "        [1.        , 0.73860618],\n",
       "        [1.        , 0.28581132],\n",
       "        [1.        , 1.9616834 ],\n",
       "        [1.        , 0.26854662],\n",
       "        [1.        , 1.33731693],\n",
       "        [1.        , 1.49777551],\n",
       "        [1.        , 1.2859083 ],\n",
       "        [1.        , 0.53155715],\n",
       "        [1.        , 0.68441872],\n",
       "        [1.        , 1.31593653],\n",
       "        [1.        , 1.43423449],\n",
       "        [1.        , 1.28488658],\n",
       "        [1.        , 0.87017185],\n",
       "        [1.        , 1.27554222],\n",
       "        [1.        , 1.5118879 ],\n",
       "        [1.        , 0.8617949 ],\n",
       "        [1.        , 1.82745014],\n",
       "        [1.        , 1.86966005],\n",
       "        [1.        , 0.88555827],\n",
       "        [1.        , 0.31054602],\n",
       "        [1.        , 0.63475805],\n",
       "        [1.        , 1.75244013],\n",
       "        [1.        , 0.33825716],\n",
       "        [1.        , 0.77104875],\n",
       "        [1.        , 1.07300038],\n",
       "        [1.        , 0.1434913 ],\n",
       "        [1.        , 0.97941311],\n",
       "        [1.        , 0.2938671 ],\n",
       "        [1.        , 1.73269165],\n",
       "        [1.        , 0.56412569],\n",
       "        [1.        , 1.08109047],\n",
       "        [1.        , 1.14773867],\n",
       "        [1.        , 0.54009798],\n",
       "        [1.        , 0.53180611],\n",
       "        [1.        , 1.1821902 ],\n",
       "        [1.        , 1.29343806],\n",
       "        [1.        , 0.67979212],\n",
       "        [1.        , 1.4074412 ],\n",
       "        [1.        , 0.4276984 ],\n",
       "        [1.        , 0.77747471],\n",
       "        [1.        , 0.68334988],\n",
       "        [1.        , 1.53101614],\n",
       "        [1.        , 0.0750457 ],\n",
       "        [1.        , 0.45610274],\n",
       "        [1.        , 0.63106767],\n",
       "        [1.        , 1.02464794],\n",
       "        [1.        , 1.43944951],\n",
       "        [1.        , 1.3470833 ],\n",
       "        [1.        , 0.62288978],\n",
       "        [1.        , 0.50640855],\n",
       "        [1.        , 0.86552453],\n",
       "        [1.        , 1.5807563 ],\n",
       "        [1.        , 0.96712665],\n",
       "        [1.        , 0.60447204],\n",
       "        [1.        , 1.39506746],\n",
       "        [1.        , 1.66863303],\n",
       "        [1.        , 1.70584326],\n",
       "        [1.        , 0.54590405],\n",
       "        [1.        , 1.89479372],\n",
       "        [1.        , 1.04874959],\n",
       "        [1.        , 0.31944221],\n",
       "        [1.        , 1.48939306],\n",
       "        [1.        , 0.17788371],\n",
       "        [1.        , 1.58379613],\n",
       "        [1.        , 0.09753269],\n",
       "        [1.        , 1.24687155],\n",
       "        [1.        , 1.38060489],\n",
       "        [1.        , 0.60240835],\n",
       "        [1.        , 0.99791951],\n",
       "        [1.        , 1.79950403],\n",
       "        [1.        , 1.14873644],\n",
       "        [1.        , 1.87181087],\n",
       "        [1.        , 0.5884144 ],\n",
       "        [1.        , 1.1847256 ],\n",
       "        [1.        , 0.86123016],\n",
       "        [1.        , 0.06585495],\n",
       "        [1.        , 1.87933209],\n",
       "        [1.        , 0.87360027],\n",
       "        [1.        , 0.45430754],\n",
       "        [1.        , 0.84856305],\n",
       "        [1.        , 0.92291112],\n",
       "        [1.        , 0.06195343],\n",
       "        [1.        , 0.95721069],\n",
       "        [1.        , 1.85760408],\n",
       "        [1.        , 1.60494276],\n",
       "        [1.        , 0.63664941],\n",
       "        [1.        , 1.66058792]]))"
      ]
     },
     "execution_count": 10,
     "metadata": {},
     "output_type": "execute_result"
    }
   ],
   "source": [
    "X_b = np.c_[np.ones((100, 1)), X]\n",
    "X, X_b"
   ]
  },
  {
   "cell_type": "code",
   "execution_count": 11,
   "metadata": {},
   "outputs": [],
   "source": [
    "theta_best = np.linalg.inv(X_b.T.dot(X_b)).dot(X_b.T).dot(y)"
   ]
  },
  {
   "cell_type": "code",
   "execution_count": 12,
   "metadata": {},
   "outputs": [
    {
     "data": {
      "text/plain": [
       "array([[3.8255162 ],\n",
       "       [3.24011233]])"
      ]
     },
     "execution_count": 12,
     "metadata": {},
     "output_type": "execute_result"
    }
   ],
   "source": [
    "theta_best"
   ]
  },
  {
   "cell_type": "code",
   "execution_count": 13,
   "metadata": {},
   "outputs": [
    {
     "data": {
      "text/plain": [
       "(array([[0],\n",
       "        [2]]),\n",
       " array([[1., 0.],\n",
       "        [1., 2.]]))"
      ]
     },
     "execution_count": 13,
     "metadata": {},
     "output_type": "execute_result"
    }
   ],
   "source": [
    "X_new = np.array([[0], [2]])\n",
    "X_new_b = np.c_[np.ones((2, 1)), X_new]\n",
    "X_new, X_new_b"
   ]
  },
  {
   "cell_type": "code",
   "execution_count": 14,
   "metadata": {},
   "outputs": [
    {
     "data": {
      "text/plain": [
       "array([[ 3.8255162 ],\n",
       "       [10.30574086]])"
      ]
     },
     "execution_count": 14,
     "metadata": {},
     "output_type": "execute_result"
    }
   ],
   "source": [
    "y_predict = X_new_b.dot(theta_best)\n",
    "y_predict"
   ]
  },
  {
   "cell_type": "code",
   "execution_count": 15,
   "metadata": {},
   "outputs": [
    {
     "data": {
      "image/png": "[encoded data removed]",
      "text/plain": [
       "<Figure size 432x288 with 1 Axes>"
      ]
     },
     "metadata": {
      "needs_background": "light"
     },
     "output_type": "display_data"
    }
   ],
   "source": [
    "plt.plot(X_new, y_predict, 'r-')\n",
    "plt.plot(X, y, 'b.')\n",
    "plt.axis([0, 2, 0, 15])\n",
    "plt.show()"
   ]
  },
  {
   "cell_type": "code",
   "execution_count": 16,
   "metadata": {},
   "outputs": [],
   "source": [
    "from sklearn.linear_model import LinearRegression"
   ]
  },
  {
   "cell_type": "code",
   "execution_count": 17,
   "metadata": {},
   "outputs": [
    {
     "data": {
      "text/plain": [
       "(array([3.8255162]), array([[3.24011233]]))"
      ]
     },
     "execution_count": 17,
     "metadata": {},
     "output_type": "execute_result"
    }
   ],
   "source": [
    "lin_reg = LinearRegression()\n",
    "lin_reg.fit(X, y)\n",
    "lin_reg.intercept_, lin_reg.coef_"
   ]
  },
  {
   "cell_type": "code",
   "execution_count": 18,
   "metadata": {},
   "outputs": [
    {
     "data": {
      "text/plain": [
       "array([[ 3.8255162 ],\n",
       "       [10.30574086]])"
      ]
     },
     "execution_count": 18,
     "metadata": {},
     "output_type": "execute_result"
    }
   ],
   "source": [
    "lin_reg.predict(X_new)"
   ]
  },
  {
   "cell_type": "code",
   "execution_count": 19,
   "metadata": {},
   "outputs": [
    {
     "data": {
      "text/plain": [
       "array([[3.8255162 ],\n",
       "       [3.24011233]])"
      ]
     },
     "execution_count": 19,
     "metadata": {},
     "output_type": "execute_result"
    }
   ],
   "source": [
    "theta_best_svd, residuals, rank, s = np.linalg.lstsq(X_b, y, rcond=1e-6)\n",
    "theta_best_svd"
   ]
  },
  {
   "cell_type": "code",
   "execution_count": 20,
   "metadata": {},
   "outputs": [
    {
     "data": {
      "text/plain": [
       "array([[3.8255162 ],\n",
       "       [3.24011233]])"
      ]
     },
     "execution_count": 20,
     "metadata": {},
     "output_type": "execute_result"
    }
   ],
   "source": [
    "np.linalg.pinv(X_b).dot(y)"
   ]
  },
  {
   "cell_type": "code",
   "execution_count": 21,
   "metadata": {},
   "outputs": [],
   "source": [
    "eta = 0.1\n",
    "n_iterations = 1000\n",
    "m = 100"
   ]
  },
  {
   "cell_type": "code",
   "execution_count": 23,
   "metadata": {},
   "outputs": [],
   "source": [
    "theta = np.random.randn(2, 1)"
   ]
  },
  {
   "cell_type": "code",
   "execution_count": 24,
   "metadata": {},
   "outputs": [],
   "source": [
    "for iteration in range(n_iterations):\n",
    "    gradients = 2/m * X_b.T.dot(X_b.dot(theta) - y)\n",
    "    theta = theta - eta * gradients"
   ]
  },
  {
   "cell_type": "code",
   "execution_count": 25,
   "metadata": {},
   "outputs": [
    {
     "data": {
      "text/plain": [
       "array([[3.8255162 ],\n",
       "       [3.24011233]])"
      ]
     },
     "execution_count": 25,
     "metadata": {},
     "output_type": "execute_result"
    }
   ],
   "source": [
    "theta"
   ]
  },
  {
   "cell_type": "code",
   "execution_count": 27,
   "metadata": {},
   "outputs": [],
   "source": [
    "n_epochs = 50\n",
    "t0, t1 = 5, 50\n",
    "\n",
    "def learning_schedule(t):\n",
    "    return t0 / (t + t1)"
   ]
  },
  {
   "cell_type": "code",
   "execution_count": 28,
   "metadata": {},
   "outputs": [
    {
     "data": {
      "text/plain": [
       "array([[0.63614197],\n",
       "       [0.44438463]])"
      ]
     },
     "execution_count": 28,
     "metadata": {},
     "output_type": "execute_result"
    }
   ],
   "source": [
    "theta = np.random.randn(2, 1)\n",
    "theta"
   ]
  },
  {
   "cell_type": "code",
   "execution_count": 29,
   "metadata": {},
   "outputs": [],
   "source": [
    "for epoch in range(n_epochs):\n",
    "    for i in range(m):\n",
    "        random_index = np.random.randint(m)\n",
    "        xi = X_b[random_index:random_index+1]\n",
    "        yi = y[random_index:random_index+1]\n",
    "        gradients = 2 * xi.T.dot(xi.dot(theta)-yi)\n",
    "        eta = learning_schedule(epoch*m + i)\n",
    "        theta -= eta*gradients"
   ]
  },
  {
   "cell_type": "code",
   "execution_count": 30,
   "metadata": {},
   "outputs": [
    {
     "data": {
      "text/plain": [
       "array([[3.83828144],\n",
       "       [3.2457048 ]])"
      ]
     },
     "execution_count": 30,
     "metadata": {},
     "output_type": "execute_result"
    }
   ],
   "source": [
    "theta"
   ]
  },
  {
   "cell_type": "code",
   "execution_count": 32,
   "metadata": {},
   "outputs": [
    {
     "data": {
      "text/plain": [
       "SGDRegressor(eta0=0.1, penalty=None)"
      ]
     },
     "execution_count": 32,
     "metadata": {},
     "output_type": "execute_result"
    }
   ],
   "source": [
    "from sklearn.linear_model import SGDRegressor\n",
    "sgd_reg = SGDRegressor(max_iter=1000, tol=1e-3, penalty=None, eta0=0.1)\n",
    "sgd_reg.fit(X, y.ravel())"
   ]
  },
  {
   "cell_type": "code",
   "execution_count": 33,
   "metadata": {},
   "outputs": [
    {
     "data": {
      "text/plain": [
       "(array([3.83075568]), array([3.24428966]))"
      ]
     },
     "execution_count": 33,
     "metadata": {},
     "output_type": "execute_result"
    }
   ],
   "source": [
    "sgd_reg.intercept_, sgd_reg.coef_"
   ]
  },
  {
   "cell_type": "code",
   "execution_count": 34,
   "metadata": {},
   "outputs": [
    {
     "data": {
      "text/plain": [
       "<matplotlib.collections.PathCollection at 0x24c7422cd00>"
      ]
     },
     "execution_count": 34,
     "metadata": {},
     "output_type": "execute_result"
    },
    {
     "data": {
      "image/png": "[encoded data removed]",
      "text/plain": [
       "<Figure size 432x288 with 1 Axes>"
      ]
     },
     "metadata": {
      "needs_background": "light"
     },
     "output_type": "display_data"
    }
   ],
   "source": [
    "m = 100\n",
    "X = 6 * np.random.rand(m, 1) - 3\n",
    "y = 0.5 * X**2 + X + 2 + np.random.randn(m, 1)\n",
    "\n",
    "plt.scatter(X, y)"
   ]
  },
  {
   "cell_type": "code",
   "execution_count": 35,
   "metadata": {},
   "outputs": [
    {
     "data": {
      "text/plain": [
       "(array([[-0.72707368],\n",
       "        [ 1.80514857],\n",
       "        [ 2.06495103],\n",
       "        [-0.93048226],\n",
       "        [-2.03619278],\n",
       "        [ 2.69199213],\n",
       "        [ 1.24071164],\n",
       "        [-2.1543329 ],\n",
       "        [ 1.23223626],\n",
       "        [-0.72634834],\n",
       "        [ 2.29630184],\n",
       "        [-0.04032002],\n",
       "        [ 2.70536611],\n",
       "        [ 2.70419147],\n",
       "        [-1.14554406],\n",
       "        [ 1.42838283],\n",
       "        [ 1.20096058],\n",
       "        [ 1.71687496],\n",
       "        [ 2.29718472],\n",
       "        [-0.82146218],\n",
       "        [ 1.73756351],\n",
       "        [-1.50593419],\n",
       "        [-1.25079075],\n",
       "        [-0.298542  ],\n",
       "        [-2.12485427],\n",
       "        [-1.04004343],\n",
       "        [ 1.31214377],\n",
       "        [-2.97432328],\n",
       "        [ 1.22928798],\n",
       "        [-1.58647678],\n",
       "        [ 2.62243574],\n",
       "        [ 1.24468937],\n",
       "        [-2.55226468],\n",
       "        [ 0.05933439],\n",
       "        [ 2.27129281],\n",
       "        [-2.03385984],\n",
       "        [ 0.64224594],\n",
       "        [-0.57908591],\n",
       "        [-0.02223133],\n",
       "        [ 0.63221438],\n",
       "        [-0.97306842],\n",
       "        [-2.07905744],\n",
       "        [ 1.75227853],\n",
       "        [-1.99664078],\n",
       "        [ 0.30000224],\n",
       "        [-1.21310676],\n",
       "        [ 0.62227271],\n",
       "        [-1.71526958],\n",
       "        [-0.98924516],\n",
       "        [-0.21728198],\n",
       "        [ 1.32123661],\n",
       "        [ 2.86808108],\n",
       "        [-2.14887269],\n",
       "        [ 0.06540953],\n",
       "        [-0.87280246],\n",
       "        [ 0.76946509],\n",
       "        [ 2.67523853],\n",
       "        [-1.15737777],\n",
       "        [-0.52706339],\n",
       "        [ 0.58676989],\n",
       "        [-1.92588937],\n",
       "        [ 0.37085783],\n",
       "        [ 2.59933626],\n",
       "        [-2.3179059 ],\n",
       "        [ 0.98494813],\n",
       "        [-0.90211799],\n",
       "        [-1.00464599],\n",
       "        [-1.90690873],\n",
       "        [-1.72564707],\n",
       "        [ 2.81773813],\n",
       "        [ 2.40512367],\n",
       "        [-2.89306181],\n",
       "        [-2.85376153],\n",
       "        [-2.62695371],\n",
       "        [ 2.35612107],\n",
       "        [-0.72654767],\n",
       "        [ 0.57320865],\n",
       "        [ 1.08361701],\n",
       "        [ 1.65663977],\n",
       "        [-0.42041749],\n",
       "        [-2.24229359],\n",
       "        [-1.77273977],\n",
       "        [-0.87870909],\n",
       "        [-0.75091858],\n",
       "        [ 1.36213302],\n",
       "        [-1.36549521],\n",
       "        [ 1.88147772],\n",
       "        [ 1.43882471],\n",
       "        [ 0.48886988],\n",
       "        [ 2.96141243],\n",
       "        [ 0.24264719],\n",
       "        [ 0.64837336],\n",
       "        [ 0.52214495],\n",
       "        [ 0.37289739],\n",
       "        [ 2.39500465],\n",
       "        [-0.34639727],\n",
       "        [ 1.88542645],\n",
       "        [ 0.2293868 ],\n",
       "        [-2.86970925],\n",
       "        [-1.15240326]]),\n",
       " array([[-7.27073680e-01,  5.28636136e-01],\n",
       "        [ 1.80514857e+00,  3.25856136e+00],\n",
       "        [ 2.06495103e+00,  4.26402274e+00],\n",
       "        [-9.30482264e-01,  8.65797244e-01],\n",
       "        [-2.03619278e+00,  4.14608104e+00],\n",
       "        [ 2.69199213e+00,  7.24682162e+00],\n",
       "        [ 1.24071164e+00,  1.53936537e+00],\n",
       "        [-2.15433290e+00,  4.64115025e+00],\n",
       "        [ 1.23223626e+00,  1.51840621e+00],\n",
       "        [-7.26348339e-01,  5.27581910e-01],\n",
       "        [ 2.29630184e+00,  5.27300216e+00],\n",
       "        [-4.03200163e-02,  1.62570371e-03],\n",
       "        [ 2.70536611e+00,  7.31900581e+00],\n",
       "        [ 2.70419147e+00,  7.31265150e+00],\n",
       "        [-1.14554406e+00,  1.31227120e+00],\n",
       "        [ 1.42838283e+00,  2.04027751e+00],\n",
       "        [ 1.20096058e+00,  1.44230631e+00],\n",
       "        [ 1.71687496e+00,  2.94765963e+00],\n",
       "        [ 2.29718472e+00,  5.27705762e+00],\n",
       "        [-8.21462183e-01,  6.74800118e-01],\n",
       "        [ 1.73756351e+00,  3.01912696e+00],\n",
       "        [-1.50593419e+00,  2.26783778e+00],\n",
       "        [-1.25079075e+00,  1.56447750e+00],\n",
       "        [-2.98541996e-01,  8.91273231e-02],\n",
       "        [-2.12485427e+00,  4.51500569e+00],\n",
       "        [-1.04004343e+00,  1.08169034e+00],\n",
       "        [ 1.31214377e+00,  1.72172126e+00],\n",
       "        [-2.97432328e+00,  8.84659895e+00],\n",
       "        [ 1.22928798e+00,  1.51114893e+00],\n",
       "        [-1.58647678e+00,  2.51690856e+00],\n",
       "        [ 2.62243574e+00,  6.87716919e+00],\n",
       "        [ 1.24468937e+00,  1.54925162e+00],\n",
       "        [-2.55226468e+00,  6.51405498e+00],\n",
       "        [ 5.93343949e-02,  3.52057042e-03],\n",
       "        [ 2.27129281e+00,  5.15877103e+00],\n",
       "        [-2.03385984e+00,  4.13658584e+00],\n",
       "        [ 6.42245936e-01,  4.12479842e-01],\n",
       "        [-5.79085914e-01,  3.35340495e-01],\n",
       "        [-2.22313292e-02,  4.94232000e-04],\n",
       "        [ 6.32214384e-01,  3.99695028e-01],\n",
       "        [-9.73068419e-01,  9.46862147e-01],\n",
       "        [-2.07905744e+00,  4.32247983e+00],\n",
       "        [ 1.75227853e+00,  3.07048006e+00],\n",
       "        [-1.99664078e+00,  3.98657440e+00],\n",
       "        [ 3.00002243e-01,  9.00013459e-02],\n",
       "        [-1.21310676e+00,  1.47162802e+00],\n",
       "        [ 6.22272709e-01,  3.87223324e-01],\n",
       "        [-1.71526958e+00,  2.94214975e+00],\n",
       "        [-9.89245163e-01,  9.78605992e-01],\n",
       "        [-2.17281984e-01,  4.72114606e-02],\n",
       "        [ 1.32123661e+00,  1.74566618e+00],\n",
       "        [ 2.86808108e+00,  8.22588909e+00],\n",
       "        [-2.14887269e+00,  4.61765384e+00],\n",
       "        [ 6.54095342e-02,  4.27840716e-03],\n",
       "        [-8.72802460e-01,  7.61784135e-01],\n",
       "        [ 7.69465094e-01,  5.92076531e-01],\n",
       "        [ 2.67523853e+00,  7.15690118e+00],\n",
       "        [-1.15737777e+00,  1.33952330e+00],\n",
       "        [-5.27063390e-01,  2.77795817e-01],\n",
       "        [ 5.86769890e-01,  3.44298903e-01],\n",
       "        [-1.92588937e+00,  3.70904985e+00],\n",
       "        [ 3.70857830e-01,  1.37535530e-01],\n",
       "        [ 2.59933626e+00,  6.75654898e+00],\n",
       "        [-2.31790590e+00,  5.37268778e+00],\n",
       "        [ 9.84948134e-01,  9.70122827e-01],\n",
       "        [-9.02117986e-01,  8.13816861e-01],\n",
       "        [-1.00464599e+00,  1.00931356e+00],\n",
       "        [-1.90690873e+00,  3.63630089e+00],\n",
       "        [-1.72564707e+00,  2.97785782e+00],\n",
       "        [ 2.81773813e+00,  7.93964816e+00],\n",
       "        [ 2.40512367e+00,  5.78461986e+00],\n",
       "        [-2.89306181e+00,  8.36980665e+00],\n",
       "        [-2.85376153e+00,  8.14395485e+00],\n",
       "        [-2.62695371e+00,  6.90088577e+00],\n",
       "        [ 2.35612107e+00,  5.55130650e+00],\n",
       "        [-7.26547672e-01,  5.27871520e-01],\n",
       "        [ 5.73208653e-01,  3.28568160e-01],\n",
       "        [ 1.08361701e+00,  1.17422583e+00],\n",
       "        [ 1.65663977e+00,  2.74445532e+00],\n",
       "        [-4.20417490e-01,  1.76750866e-01],\n",
       "        [-2.24229359e+00,  5.02788055e+00],\n",
       "        [-1.77273977e+00,  3.14260629e+00],\n",
       "        [-8.78709092e-01,  7.72129668e-01],\n",
       "        [-7.50918578e-01,  5.63878710e-01],\n",
       "        [ 1.36213302e+00,  1.85540638e+00],\n",
       "        [-1.36549521e+00,  1.86457716e+00],\n",
       "        [ 1.88147772e+00,  3.53995840e+00],\n",
       "        [ 1.43882471e+00,  2.07021654e+00],\n",
       "        [ 4.88869880e-01,  2.38993760e-01],\n",
       "        [ 2.96141243e+00,  8.76996359e+00],\n",
       "        [ 2.42647185e-01,  5.88776566e-02],\n",
       "        [ 6.48373364e-01,  4.20388020e-01],\n",
       "        [ 5.22144946e-01,  2.72635345e-01],\n",
       "        [ 3.72897393e-01,  1.39052466e-01],\n",
       "        [ 2.39500465e+00,  5.73604725e+00],\n",
       "        [-3.46397267e-01,  1.19991066e-01],\n",
       "        [ 1.88542645e+00,  3.55483290e+00],\n",
       "        [ 2.29386799e-01,  5.26183037e-02],\n",
       "        [-2.86970925e+00,  8.23523121e+00],\n",
       "        [-1.15240326e+00,  1.32803327e+00]]))"
      ]
     },
     "execution_count": 35,
     "metadata": {},
     "output_type": "execute_result"
    }
   ],
   "source": [
    "from sklearn.preprocessing import PolynomialFeatures\n",
    "poly_features = PolynomialFeatures(degree=2, include_bias=False)\n",
    "X_poly = poly_features.fit_transform(X)\n",
    "X, X_poly"
   ]
  },
  {
   "cell_type": "code",
   "execution_count": 36,
   "metadata": {},
   "outputs": [
    {
     "data": {
      "text/plain": [
       "(array([2.01074329]), array([[0.98039704, 0.56608595]]))"
      ]
     },
     "execution_count": 36,
     "metadata": {},
     "output_type": "execute_result"
    }
   ],
   "source": [
    "lin_reg = LinearRegression()\n",
    "lin_reg.fit(X_poly, y)\n",
    "lin_reg.intercept_, lin_reg.coef_"
   ]
  },
  {
   "cell_type": "code",
   "execution_count": 37,
   "metadata": {},
   "outputs": [],
   "source": [
    "from sklearn.metrics import mean_squared_error\n",
    "from sklearn.model_selection import train_test_split"
   ]
  },
  {
   "cell_type": "code",
   "execution_count": 45,
   "metadata": {},
   "outputs": [],
   "source": [
    "def plot_learning_curves(model, X, y):\n",
    "    X_train, X_val, y_train, y_val = train_test_split(X, y, test_size=0.2)\n",
    "    train_errors, val_errors = [], []\n",
    "    for m in range(1, len(X_train)):\n",
    "        model.fit(X_train[:m], y_train[:m])\n",
    "        y_train_predict = model.predict(X_train[:m])\n",
    "        y_val_predict = model.predict(X_val[:m])\n",
    "        train_errors.append(mean_squared_error(y_train[:m], y_train_predict))\n",
    "        val_errors.append(mean_squared_error(y_val[:m], y_val_predict))\n",
    "    plt.plot(np.sqrt(train_errors), 'r-+', linewidth=2, label='train')\n",
    "    plt.plot(np.sqrt(val_errors), 'b-', linewidth=3, label='val')\n",
    "    plt.axis([0, 80, 0, 3])\n",
    "    plt.show()"
   ]
  },
  {
   "cell_type": "code",
   "execution_count": 46,
   "metadata": {},
   "outputs": [
    {
     "data": {
      "image/png": "[encoded data removed]",
      "text/plain": [
       "<Figure size 432x288 with 1 Axes>"
      ]
     },
     "metadata": {
      "needs_background": "light"
     },
     "output_type": "display_data"
    }
   ],
   "source": [
    "lin_reg = LinearRegression()\n",
    "plot_learning_curves(lin_reg, X, y)"
   ]
  },
  {
   "cell_type": "code",
   "execution_count": 41,
   "metadata": {},
   "outputs": [],
   "source": [
    "from sklearn.pipeline import Pipeline\n",
    "\n",
    "polynomial_regression = Pipeline([\n",
    "    (\"poly_features\", PolynomialFeatures(degree=10, include_bias=False)),\n",
    "    (\"lin_reg\", LinearRegression())\n",
    "])"
   ]
  },
  {
   "cell_type": "code",
   "execution_count": 47,
   "metadata": {},
   "outputs": [
    {
     "data": {
      "image/png": "[encoded data removed]",
      "text/plain": [
       "<Figure size 432x288 with 1 Axes>"
      ]
     },
     "metadata": {
      "needs_background": "light"
     },
     "output_type": "display_data"
    }
   ],
   "source": [
    "plot_learning_curves(polynomial_regression, X, y)"
   ]
  },
  {
   "cell_type": "code",
   "execution_count": 48,
   "metadata": {},
   "outputs": [
    {
     "data": {
      "image/png": "[encoded data removed]",
      "text/plain": [
       "<Figure size 432x288 with 1 Axes>"
      ]
     },
     "metadata": {
      "needs_background": "light"
     },
     "output_type": "display_data"
    }
   ],
   "source": [
    "polynomial_regression_2 = Pipeline([\n",
    "    (\"poly_features\", PolynomialFeatures(degree=2, include_bias=False)),\n",
    "    (\"lin_reg\", LinearRegression())\n",
    "])\n",
    "plot_learning_curves(polynomial_regression_2, X, y)"
   ]
  },
  {
   "cell_type": "code",
   "execution_count": 49,
   "metadata": {},
   "outputs": [
    {
     "data": {
      "text/plain": [
       "array([[5.18030712]])"
      ]
     },
     "execution_count": 49,
     "metadata": {},
     "output_type": "execute_result"
    }
   ],
   "source": [
    "from sklearn.linear_model import Ridge\n",
    "ridge_reg = Ridge(alpha=1, solver='cholesky')\n",
    "ridge_reg.fit(X, y)\n",
    "ridge_reg.predict([[1.5]])"
   ]
  },
  {
   "cell_type": "code",
   "execution_count": 50,
   "metadata": {},
   "outputs": [
    {
     "data": {
      "text/plain": [
       "array([5.15820435])"
      ]
     },
     "execution_count": 50,
     "metadata": {},
     "output_type": "execute_result"
    }
   ],
   "source": [
    "sgd_reg = SGDRegressor(penalty='l2')\n",
    "sgd_reg.fit(X, y.ravel())\n",
    "sgd_reg.predict([[1.5]])"
   ]
  },
  {
   "cell_type": "code",
   "execution_count": 52,
   "metadata": {},
   "outputs": [
    {
     "data": {
      "text/plain": [
       "array([5.13416374])"
      ]
     },
     "execution_count": 52,
     "metadata": {},
     "output_type": "execute_result"
    }
   ],
   "source": [
    "from sklearn.linear_model import Lasso\n",
    "lasso_reg = Lasso(alpha=0.1)\n",
    "lasso_reg.fit(X, y)\n",
    "lasso_reg.predict([[1.5]])"
   ]
  },
  {
   "cell_type": "code",
   "execution_count": 53,
   "metadata": {},
   "outputs": [
    {
     "data": {
      "text/plain": [
       "array([5.15721243])"
      ]
     },
     "execution_count": 53,
     "metadata": {},
     "output_type": "execute_result"
    }
   ],
   "source": [
    "sgd_reg = SGDRegressor(penalty='l1')\n",
    "sgd_reg.fit(X, y.ravel())\n",
    "sgd_reg.predict([[1.5]])"
   ]
  },
  {
   "cell_type": "code",
   "execution_count": 56,
   "metadata": {},
   "outputs": [
    {
     "data": {
      "text/plain": [
       "array([5.13334063])"
      ]
     },
     "execution_count": 56,
     "metadata": {},
     "output_type": "execute_result"
    }
   ],
   "source": [
    "from sklearn.linear_model import ElasticNet\n",
    "elastic_net = ElasticNet(alpha=0.1, l1_ratio=0.5)\n",
    "elastic_net.fit(X, y)\n",
    "elastic_net.predict([[1.5]])"
   ]
  },
  {
   "cell_type": "code",
   "execution_count": 62,
   "metadata": {},
   "outputs": [],
   "source": [
    "from sklearn.base import clone\n",
    "from sklearn.preprocessing import StandardScaler\n",
    "\n",
    "X_train, X_val, y_train, y_val = train_test_split(X, y, test_size=0.2)\n",
    "\n",
    "poly_scaler = Pipeline([\n",
    "    (\"poly_features\", PolynomialFeatures(degree=90, include_bias=False)),\n",
    "    (\"std_scaler\", StandardScaler())\n",
    "])\n",
    "X_train_poly_scaled = poly_scaler.fit_transform(X_train)\n",
    "X_val_poly_scaled = poly_scaler.transform(X_val)\n",
    "\n",
    "sgd_reg = SGDRegressor(max_iter=1, tol=-np.infty, warm_start=True, penalty=None, learning_rate='constant', eta0=0.0005)\n",
    "\n",
    "minimum_val_error = float('inf')\n",
    "best_epoch = None\n",
    "best_model = None\n",
    "for epoch in range(1000):\n",
    "    sgd_reg.fit(X_train_poly_scaled, y_train.ravel())\n",
    "    y_val_predict = sgd_reg.predict(X_val_poly_scaled)\n",
    "    val_error = mean_squared_error(y_val, y_val_predict)\n",
    "    if val_error < minimum_val_error:\n",
    "        minimum_val_error = val_error\n",
    "        best_epoch = epoch\n",
    "        best_model = clone(sgd_reg)"
   ]
  },
  {
   "cell_type": "code",
   "execution_count": 63,
   "metadata": {},
   "outputs": [
    {
     "data": {
      "text/plain": [
       "(968,\n",
       " SGDRegressor(eta0=0.0005, learning_rate='constant', max_iter=1, penalty=None,\n",
       "              tol=-inf, warm_start=True))"
      ]
     },
     "execution_count": 63,
     "metadata": {},
     "output_type": "execute_result"
    }
   ],
   "source": [
    "best_epoch, best_model"
   ]
  },
  {
   "cell_type": "code",
   "execution_count": 64,
   "metadata": {},
   "outputs": [
    {
     "data": {
      "text/plain": [
       "['data',\n",
       " 'target',\n",
       " 'frame',\n",
       " 'target_names',\n",
       " 'DESCR',\n",
       " 'feature_names',\n",
       " 'filename']"
      ]
     },
     "execution_count": 64,
     "metadata": {},
     "output_type": "execute_result"
    }
   ],
   "source": [
    "from sklearn import datasets\n",
    "iris = datasets.load_iris()\n",
    "list(iris.keys())"
   ]
  },
  {
   "cell_type": "code",
   "execution_count": 65,
   "metadata": {},
   "outputs": [],
   "source": [
    "X = iris['data'][:, 3:]\n",
    "y = (iris['target'] == 2).astype(np.int)"
   ]
  },
  {
   "cell_type": "code",
   "execution_count": 66,
   "metadata": {},
   "outputs": [
    {
     "data": {
      "text/plain": [
       "(array([[0.2],\n",
       "        [0.2],\n",
       "        [0.2],\n",
       "        [0.2],\n",
       "        [0.2],\n",
       "        [0.4],\n",
       "        [0.3],\n",
       "        [0.2],\n",
       "        [0.2],\n",
       "        [0.1],\n",
       "        [0.2],\n",
       "        [0.2],\n",
       "        [0.1],\n",
       "        [0.1],\n",
       "        [0.2],\n",
       "        [0.4],\n",
       "        [0.4],\n",
       "        [0.3],\n",
       "        [0.3],\n",
       "        [0.3],\n",
       "        [0.2],\n",
       "        [0.4],\n",
       "        [0.2],\n",
       "        [0.5],\n",
       "        [0.2],\n",
       "        [0.2],\n",
       "        [0.4],\n",
       "        [0.2],\n",
       "        [0.2],\n",
       "        [0.2],\n",
       "        [0.2],\n",
       "        [0.4],\n",
       "        [0.1],\n",
       "        [0.2],\n",
       "        [0.2],\n",
       "        [0.2],\n",
       "        [0.2],\n",
       "        [0.1],\n",
       "        [0.2],\n",
       "        [0.2],\n",
       "        [0.3],\n",
       "        [0.3],\n",
       "        [0.2],\n",
       "        [0.6],\n",
       "        [0.4],\n",
       "        [0.3],\n",
       "        [0.2],\n",
       "        [0.2],\n",
       "        [0.2],\n",
       "        [0.2],\n",
       "        [1.4],\n",
       "        [1.5],\n",
       "        [1.5],\n",
       "        [1.3],\n",
       "        [1.5],\n",
       "        [1.3],\n",
       "        [1.6],\n",
       "        [1. ],\n",
       "        [1.3],\n",
       "        [1.4],\n",
       "        [1. ],\n",
       "        [1.5],\n",
       "        [1. ],\n",
       "        [1.4],\n",
       "        [1.3],\n",
       "        [1.4],\n",
       "        [1.5],\n",
       "        [1. ],\n",
       "        [1.5],\n",
       "        [1.1],\n",
       "        [1.8],\n",
       "        [1.3],\n",
       "        [1.5],\n",
       "        [1.2],\n",
       "        [1.3],\n",
       "        [1.4],\n",
       "        [1.4],\n",
       "        [1.7],\n",
       "        [1.5],\n",
       "        [1. ],\n",
       "        [1.1],\n",
       "        [1. ],\n",
       "        [1.2],\n",
       "        [1.6],\n",
       "        [1.5],\n",
       "        [1.6],\n",
       "        [1.5],\n",
       "        [1.3],\n",
       "        [1.3],\n",
       "        [1.3],\n",
       "        [1.2],\n",
       "        [1.4],\n",
       "        [1.2],\n",
       "        [1. ],\n",
       "        [1.3],\n",
       "        [1.2],\n",
       "        [1.3],\n",
       "        [1.3],\n",
       "        [1.1],\n",
       "        [1.3],\n",
       "        [2.5],\n",
       "        [1.9],\n",
       "        [2.1],\n",
       "        [1.8],\n",
       "        [2.2],\n",
       "        [2.1],\n",
       "        [1.7],\n",
       "        [1.8],\n",
       "        [1.8],\n",
       "        [2.5],\n",
       "        [2. ],\n",
       "        [1.9],\n",
       "        [2.1],\n",
       "        [2. ],\n",
       "        [2.4],\n",
       "        [2.3],\n",
       "        [1.8],\n",
       "        [2.2],\n",
       "        [2.3],\n",
       "        [1.5],\n",
       "        [2.3],\n",
       "        [2. ],\n",
       "        [2. ],\n",
       "        [1.8],\n",
       "        [2.1],\n",
       "        [1.8],\n",
       "        [1.8],\n",
       "        [1.8],\n",
       "        [2.1],\n",
       "        [1.6],\n",
       "        [1.9],\n",
       "        [2. ],\n",
       "        [2.2],\n",
       "        [1.5],\n",
       "        [1.4],\n",
       "        [2.3],\n",
       "        [2.4],\n",
       "        [1.8],\n",
       "        [1.8],\n",
       "        [2.1],\n",
       "        [2.4],\n",
       "        [2.3],\n",
       "        [1.9],\n",
       "        [2.3],\n",
       "        [2.5],\n",
       "        [2.3],\n",
       "        [1.9],\n",
       "        [2. ],\n",
       "        [2.3],\n",
       "        [1.8]]),\n",
       " array([0, 0, 0, 0, 0, 0, 0, 0, 0, 0, 0, 0, 0, 0, 0, 0, 0, 0, 0, 0, 0, 0,\n",
       "        0, 0, 0, 0, 0, 0, 0, 0, 0, 0, 0, 0, 0, 0, 0, 0, 0, 0, 0, 0, 0, 0,\n",
       "        0, 0, 0, 0, 0, 0, 0, 0, 0, 0, 0, 0, 0, 0, 0, 0, 0, 0, 0, 0, 0, 0,\n",
       "        0, 0, 0, 0, 0, 0, 0, 0, 0, 0, 0, 0, 0, 0, 0, 0, 0, 0, 0, 0, 0, 0,\n",
       "        0, 0, 0, 0, 0, 0, 0, 0, 0, 0, 0, 0, 1, 1, 1, 1, 1, 1, 1, 1, 1, 1,\n",
       "        1, 1, 1, 1, 1, 1, 1, 1, 1, 1, 1, 1, 1, 1, 1, 1, 1, 1, 1, 1, 1, 1,\n",
       "        1, 1, 1, 1, 1, 1, 1, 1, 1, 1, 1, 1, 1, 1, 1, 1, 1, 1]))"
      ]
     },
     "execution_count": 66,
     "metadata": {},
     "output_type": "execute_result"
    }
   ],
   "source": [
    "X, y"
   ]
  },
  {
   "cell_type": "code",
   "execution_count": 67,
   "metadata": {},
   "outputs": [
    {
     "data": {
      "text/plain": [
       "LogisticRegression()"
      ]
     },
     "execution_count": 67,
     "metadata": {},
     "output_type": "execute_result"
    }
   ],
   "source": [
    "from sklearn.linear_model import LogisticRegression\n",
    "log_reg = LogisticRegression()\n",
    "log_reg.fit(X, y)"
   ]
  },
  {
   "cell_type": "code",
   "execution_count": 68,
   "metadata": {},
   "outputs": [
    {
     "data": {
      "text/plain": [
       "[<matplotlib.lines.Line2D at 0x24c7623d3d0>]"
      ]
     },
     "execution_count": 68,
     "metadata": {},
     "output_type": "execute_result"
    },
    {
     "data": {
      "image/png": "[encoded data removed]",
      "text/plain": [
       "<Figure size 432x288 with 1 Axes>"
      ]
     },
     "metadata": {
      "needs_background": "light"
     },
     "output_type": "display_data"
    }
   ],
   "source": [
    "X_new = np.linspace(0, 3, 1000).reshape(-1, 1)\n",
    "y_proba = log_reg.predict_proba(X_new)\n",
    "plt.plot(X_new, y_proba[:, 1], 'g-', label='Iris virginica')\n",
    "plt.plot(X_new, y_proba[:, 0], 'b--', label='Not Iris virginica')"
   ]
  },
  {
   "cell_type": "code",
   "execution_count": 70,
   "metadata": {},
   "outputs": [
    {
     "data": {
      "text/plain": [
       "array([1, 0])"
      ]
     },
     "execution_count": 70,
     "metadata": {},
     "output_type": "execute_result"
    }
   ],
   "source": [
    "log_reg.predict([[1.7], [1.5]])"
   ]
  },
  {
   "cell_type": "code",
   "execution_count": 71,
   "metadata": {},
   "outputs": [
    {
     "data": {
      "text/plain": [
       "(array([2]), array([[6.38014896e-07, 5.74929995e-02, 9.42506362e-01]]))"
      ]
     },
     "execution_count": 71,
     "metadata": {},
     "output_type": "execute_result"
    }
   ],
   "source": [
    "X = iris['data'][:, (2, 3)]\n",
    "y = iris['target']\n",
    "\n",
    "softmax_reg = LogisticRegression(multi_class='multinomial', solver='lbfgs', C=10)\n",
    "softmax_reg.fit(X, y)\n",
    "softmax_reg.predict([[5, 2]]), softmax_reg.predict_proba([[5, 2]])"
   ]
  },
  {
   "cell_type": "code",
   "execution_count": null,
   "metadata": {},
   "outputs": [],
   "source": []
  }
 ],
 "metadata": {
  "kernelspec": {
   "display_name": "Python 3",
   "language": "python",
   "name": "python3"
  },
  "language_info": {
   "codemirror_mode": {
    "name": "ipython",
    "version": 3
   },
   "file_extension": ".py",
   "mimetype": "text/x-python",
   "name": "python",
   "nbconvert_exporter": "python",
   "pygments_lexer": "ipython3",
   "version": "3.8.5"
  }
 },
 "nbformat": 4,
 "nbformat_minor": 4
}
